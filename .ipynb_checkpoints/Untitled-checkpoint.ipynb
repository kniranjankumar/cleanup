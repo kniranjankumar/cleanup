{
 "cells": [
  {
   "cell_type": "code",
   "execution_count": 23,
   "metadata": {},
   "outputs": [],
   "source": [
    "import torch\n",
    "from torch import nn\n",
    "import torchvision\n",
    "import numpy as np\n",
    "import pickle as pkl\n",
    "from torch.utils.data import Dataset, DataLoader\n",
    "from matplotlib import pyplot as plt\n",
    "from tqdm import tqdm, tqdm_notebook\n",
    "from torch.nn import functional as F\n",
    "device = torch.device(\"cuda\" if torch.cuda.is_available() else \"cpu\")"
   ]
  },
  {
   "cell_type": "code",
   "execution_count": 24,
   "metadata": {},
   "outputs": [
    {
     "data": {
      "text/plain": [
       "11979"
      ]
     },
     "execution_count": 24,
     "metadata": {},
     "output_type": "execute_result"
    }
   ],
   "source": [
    "with open('./combined.pkl','rb') as f:\n",
    "    data = pkl.load(f)\n",
    "len(data)"
   ]
  },
  {
   "cell_type": "code",
   "execution_count": 25,
   "metadata": {},
   "outputs": [],
   "source": [
    "observations = []\n",
    "labels = []\n",
    "actions = {'forward':0, 'left':1, 'right':2, 'pick':3}\n",
    "for item in data:\n",
    "    observations.append(item['obs'])\n",
    "    labels.append(actions[item['action']])\n",
    "# observations = np.array(observations)\n",
    "# labels = np.array(labels)"
   ]
  },
  {
   "cell_type": "code",
   "execution_count": 26,
   "metadata": {},
   "outputs": [],
   "source": [
    "def noramlize(data):\n",
    "    data = np.array(data)\n",
    "    mean = np.mean(data, axis=0)\n",
    "    var = np.std(data, axis=0)\n",
    "    return (data-mean)/(var+1e-100)\n",
    "\n",
    "norm_observations = list(noramlize(observations))"
   ]
  },
  {
   "cell_type": "code",
   "execution_count": 27,
   "metadata": {},
   "outputs": [],
   "source": [
    "class CleanupDataset(Dataset):\n",
    "    def __init__(self, observations,labels,transform=None,is_train=True, valid_idx=None):\n",
    "        self.obs = observations\n",
    "        self.labels = labels\n",
    "        self.actions = {'forward':1, 'left':2, 'right':3, 'pick':4}\n",
    "        self.transform = transform\n",
    "        \n",
    "    def __getitem__(self, idx):\n",
    "        obs, action = self.obs[idx].reshape(-1), self.labels[idx]\n",
    "        if self.transform == None:\n",
    "            return {'obs':obs, 'label':action}\n",
    "        else:\n",
    "            return self.transform({'obs':obs, 'label':action})\n",
    "  \n",
    "    def __len__(self,):\n",
    "        return int(len(self.obs))\n",
    "\n",
    "class ToTensor(object):\n",
    "    \"\"\"Convert ndarrays in sample to Tensors.\"\"\"\n",
    "\n",
    "    def __call__(self, sample):\n",
    "        obs, label = sample['obs'], sample['label']\n",
    "        obs, label = torch.from_numpy(obs).type(torch.FloatTensor), torch.tensor(label)\n",
    "        return {'obs':obs.to(device), 'label':label.to(device)}"
   ]
  },
  {
   "cell_type": "code",
   "execution_count": 28,
   "metadata": {},
   "outputs": [
    {
     "name": "stdout",
     "output_type": "stream",
     "text": [
      "9583 2396\n"
     ]
    }
   ],
   "source": [
    "shuffled_idx = np.random.permutation(len(observations))\n",
    "train_idx = shuffled_idx[:int(len(shuffled_idx)*0.8)]\n",
    "test_idx = shuffled_idx[int(len(shuffled_idx)*0.8):]\n",
    "train_obs = [norm_observations[idx] for idx in train_idx]\n",
    "train_labels = [labels[idx] for idx in train_idx]\n",
    "test_obs = [norm_observations[idx] for idx in test_idx]\n",
    "test_labels = [labels[idx] for idx in train_idx]\n",
    "print(len(train_obs), len(test_obs))\n",
    "\n",
    "cleanuptrain = CleanupDataset(observations=train_obs, labels=train_labels,transform=ToTensor())\n",
    "cleanuptest = CleanupDataset(observations=test_obs, labels=test_labels,transform=ToTensor())\n",
    "train_loader = DataLoader(cleanuptrain, batch_size=16, shuffle=True)\n",
    "test_loader = DataLoader(cleanuptest, batch_size=16)"
   ]
  },
  {
   "cell_type": "code",
   "execution_count": 32,
   "metadata": {},
   "outputs": [],
   "source": [
    "class SimpleFCN(torch.nn.Module):\n",
    "    \n",
    "    #Our batch shape for input x is (3, 32, 32)\n",
    "    \n",
    "    def __init__(self):\n",
    "        super(SimpleFCN, self).__init__()\n",
    "        self.fc1 = torch.nn.Linear(128, 256)\n",
    "        self.fc2 = torch.nn.Linear(256, 256)\n",
    "        #64 input features, 10 output features for our 10 defined classes\n",
    "        self.fc3 = torch.nn.Linear(256, 4)\n",
    "    \n",
    "    def forward(self, x):\n",
    "        \n",
    "        #Computes the activation of the first convolution\n",
    "        #Size changes from (3, 32, 32) to (18, 32, 32)\n",
    "        x = F.relu(self.fc1(x))\n",
    "        \n",
    "        #Size changes from (18, 32, 32) to (18, 16, 16)\n",
    "        x = F.relu(self.fc2(x))\n",
    "        x = self.fc3(x)\n",
    "        return x\n",
    "    "
   ]
  },
  {
   "cell_type": "code",
   "execution_count": 33,
   "metadata": {},
   "outputs": [],
   "source": [
    "model = SimpleFCN()\n",
    "model.train()\n",
    "model.cuda()\n",
    "criterion = nn.CrossEntropyLoss()\n",
    "optimizer = torch.optim.SGD(model.parameters(), lr=1e-3)\n",
    "# optimizer = torch.optim.Adam(model.parameters(),lr=1e-4)\n",
    "loss_list = []\n",
    "for idx, sample in enumerate(train_loader):\n",
    "    out = model(sample['obs'])\n",
    "    loss = criterion(out,sample['label'])\n",
    "    loss_list.append(loss.item())\n",
    "    optimizer.zero_grad()\n",
    "    loss.backward()\n",
    "    optimizer.step()\n",
    "#     break"
   ]
  },
  {
   "cell_type": "code",
   "execution_count": 34,
   "metadata": {},
   "outputs": [
    {
     "data": {
      "text/plain": [
       "[<matplotlib.lines.Line2D at 0x7f5e30cb8668>]"
      ]
     },
     "execution_count": 34,
     "metadata": {},
     "output_type": "execute_result"
    },
    {
     "data": {
      "image/png": "[encoded data removed]",
      "text/plain": [
       "<Figure size 432x288 with 1 Axes>"
      ]
     },
     "metadata": {
      "needs_background": "light"
     },
     "output_type": "display_data"
    }
   ],
   "source": [
    "plt.plot(loss_list)"
   ]
  },
  {
   "cell_type": "code",
   "execution_count": null,
   "metadata": {},
   "outputs": [],
   "source": []
  }
 ],
 "metadata": {
  "kernelspec": {
   "display_name": "Python 3",
   "language": "python",
   "name": "python3"
  }
 },
 "nbformat": 4,
 "nbformat_minor": 2
}
